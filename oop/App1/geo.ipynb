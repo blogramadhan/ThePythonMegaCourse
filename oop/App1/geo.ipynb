{
 "cells": [
  {
   "cell_type": "code",
   "execution_count": null,
   "metadata": {},
   "outputs": [],
   "source": [
    "class Point:\n",
    "\n",
    "    def __init__(self, x, y) -> None:\n",
    "        self.x = x\n",
    "        self.y = y\n",
    "\n",
    "    def falls_in_rectangle(self, rectangle):\n",
    "        return rectangle.point1.x < self.x < rectangle.point2.x and \\\n",
    "               rectangle.point1.y < self.y < rectangle.point2.y"
   ]
  },
  {
   "cell_type": "code",
   "execution_count": null,
   "metadata": {},
   "outputs": [],
   "source": [
    "class Rectangle:\n",
    "\n",
    "    def __init__(self, point1, point2) -> None:\n",
    "        self.point1 = point1\n",
    "        self.point2 = point2\n",
    "\n",
    "    def area(self):\n",
    "        return (self.point2.x - self.point1.x) * \\\n",
    "               (self.point2.y - self.point1.y)"
   ]
  },
  {
   "cell_type": "code",
   "execution_count": null,
   "metadata": {},
   "outputs": [],
   "source": [
    "# Wrapping Up\n",
    "\n",
    "from random import randint\n",
    "\n",
    "# Create rectangle object\n",
    "rectangle = Rectangle(\n",
    "    Point(randint(0, 9), randint(0, 9)),\n",
    "    Point(randint(10, 19), randint(10, 19)))\n",
    "\n",
    "# Print rectangle object\n",
    "print(\"Rectangle Coordinates: \",\n",
    "      rectangle.point1.x, \",\",\n",
    "      rectangle.point1.y, \"and\",\n",
    "      rectangle.point2.x, \",\",\n",
    "      rectangle.point2.y)\n",
    "\n",
    "# Get point and area from user\n",
    "user_point = Point(int(input(\"Guess X: \")), int(input(\"Guess Y: \")))\n",
    "user_area = int(input(\"Guess rectangle area: \"))\n",
    "\n",
    "# Print out point from user\n",
    "print(\"Guess X:\", user_point.x)\n",
    "print(\"Guess Y:\", user_point.y)\n",
    "\n",
    "# Print out the game result\n",
    "print(\"Your point was inside rectangle: \", user_point.falls_in_rectangle(rectangle))\n",
    "print(\"Your area was off by: \", rectangle.area() - user_area)"
   ]
  }
 ],
 "metadata": {
  "kernelspec": {
   "display_name": "Python 3.10.6 ('ular')",
   "language": "python",
   "name": "python3"
  },
  "language_info": {
   "codemirror_mode": {
    "name": "ipython",
    "version": 3
   },
   "file_extension": ".py",
   "mimetype": "text/x-python",
   "name": "python",
   "nbconvert_exporter": "python",
   "pygments_lexer": "ipython3",
   "version": "3.10.6"
  },
  "orig_nbformat": 4,
  "vscode": {
   "interpreter": {
    "hash": "87972e33417a2a08e425ac6b865ab686088ce46af4bccb0014d5e5b26a86a9b0"
   }
  }
 },
 "nbformat": 4,
 "nbformat_minor": 2
}
